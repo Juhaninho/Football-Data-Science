{
 "cells": [
  {
   "cell_type": "code",
   "execution_count": 1,
   "metadata": {},
   "outputs": [],
   "source": [
    "import pandas as pd\n",
    "import numpy as np\n",
    "import json\n",
    "import os\n",
    "pd.set_option('display.max_columns', None)\n",
    "pd.set_option('display.max_rows', None)"
   ]
  },
  {
   "cell_type": "code",
   "execution_count": 5,
   "metadata": {},
   "outputs": [],
   "source": [
    "df_matches = pd.DataFrame()\n",
    "root_folder = 'data/matches'\n",
    "for folder in os.listdir(root_folder):\n",
    "    folder = os.path.join(root_folder, folder)\n",
    "    for filename in os.listdir(folder):\n",
    "        with open(os.path.join(folder, filename), encoding='utf8') as f:\n",
    "            matches = json.load(f)\n",
    "            df_matches = pd.concat([df_matches, pd.DataFrame(matches)])"
   ]
  },
  {
   "cell_type": "code",
   "execution_count": 9,
   "metadata": {},
   "outputs": [],
   "source": [
    "df_matches = df_matches[['match_id', 'match_date', 'season', 'home_team', 'away_team', 'home_score', 'away_score', 'competition', 'competition_stage']]"
   ]
  },
  {
   "cell_type": "code",
   "execution_count": 12,
   "metadata": {
    "collapsed": true
   },
   "outputs": [
    {
     "name": "stderr",
     "output_type": "stream",
     "text": [
      "C:\\Users\\Juhaninho\\Anaconda3\\lib\\site-packages\\pandas\\core\\indexing.py:537: SettingWithCopyWarning: \n",
      "A value is trying to be set on a copy of a slice from a DataFrame.\n",
      "Try using .loc[row_indexer,col_indexer] = value instead\n",
      "\n",
      "See the caveats in the documentation: http://pandas.pydata.org/pandas-docs/stable/indexing.html#indexing-view-versus-copy\n",
      "  self.obj[item] = s\n",
      "C:\\Users\\Juhaninho\\Anaconda3\\lib\\site-packages\\pandas\\core\\indexing.py:357: SettingWithCopyWarning: \n",
      "A value is trying to be set on a copy of a slice from a DataFrame.\n",
      "Try using .loc[row_indexer,col_indexer] = value instead\n",
      "\n",
      "See the caveats in the documentation: http://pandas.pydata.org/pandas-docs/stable/indexing.html#indexing-view-versus-copy\n",
      "  self.obj[key] = _infer_fill_value(value)\n"
     ]
    }
   ],
   "source": [
    "df_matches.loc[:, 'season'] = [df_matches['season'].iloc[i]['season_name'] for i in range(len(df_matches))]\n",
    "df_matches.loc[:, 'home_team_id'] = [df_matches['home_team'].iloc[i]['home_team_id'] for i in range(len(df_matches))]\n",
    "df_matches.loc[:, 'home_team_name'] = [df_matches['home_team'].iloc[i]['home_team_name'] for i in range(len(df_matches))]\n",
    "df_matches.loc[:, 'away_team_id'] = [df_matches['away_team'].iloc[i]['away_team_id'] for i in range(len(df_matches))]\n",
    "df_matches.loc[:, 'away_team_name'] = [df_matches['away_team'].iloc[i]['away_team_name'] for i in range(len(df_matches))]\n",
    "df_matches.loc[:, 'competition_id'] = [df_matches['competition'].iloc[i]['competition_id'] for i in range(len(df_matches))]\n",
    "df_matches.loc[:, 'competition_name'] = [df_matches['competition'].iloc[i]['competition_name'] for i in range(len(df_matches))]\n",
    "df_matches.loc[:, 'competition_stage'] = [df_matches['competition_stage'].iloc[i]['name'] for i in range(len(df_matches))]"
   ]
  },
  {
   "cell_type": "code",
   "execution_count": 14,
   "metadata": {
    "collapsed": true
   },
   "outputs": [
    {
     "name": "stderr",
     "output_type": "stream",
     "text": [
      "C:\\Users\\Juhaninho\\Anaconda3\\lib\\site-packages\\ipykernel_launcher.py:1: SettingWithCopyWarning: \n",
      "A value is trying to be set on a copy of a slice from a DataFrame\n",
      "\n",
      "See the caveats in the documentation: http://pandas.pydata.org/pandas-docs/stable/indexing.html#indexing-view-versus-copy\n",
      "  \"\"\"Entry point for launching an IPython kernel.\n"
     ]
    }
   ],
   "source": [
    "df_matches.drop(['home_team', 'away_team', 'competition'], axis=1, inplace=True)"
   ]
  },
  {
   "cell_type": "code",
   "execution_count": 17,
   "metadata": {},
   "outputs": [],
   "source": [
    "df_matches = df_matches[['match_id', 'home_team_id', 'home_team_name', 'away_team_id', 'away_team_name', 'home_score', 'away_score', 'competition_name', 'competition_id', 'competition_stage', 'season', 'match_date']]"
   ]
  },
  {
   "cell_type": "code",
   "execution_count": 18,
   "metadata": {},
   "outputs": [
    {
     "data": {
      "text/html": [
       "<div>\n",
       "<style scoped>\n",
       "    .dataframe tbody tr th:only-of-type {\n",
       "        vertical-align: middle;\n",
       "    }\n",
       "\n",
       "    .dataframe tbody tr th {\n",
       "        vertical-align: top;\n",
       "    }\n",
       "\n",
       "    .dataframe thead th {\n",
       "        text-align: right;\n",
       "    }\n",
       "</style>\n",
       "<table border=\"1\" class=\"dataframe\">\n",
       "  <thead>\n",
       "    <tr style=\"text-align: right;\">\n",
       "      <th></th>\n",
       "      <th>match_id</th>\n",
       "      <th>home_team_id</th>\n",
       "      <th>home_team_name</th>\n",
       "      <th>away_team_id</th>\n",
       "      <th>away_team_name</th>\n",
       "      <th>home_score</th>\n",
       "      <th>away_score</th>\n",
       "      <th>competition_name</th>\n",
       "      <th>competition_id</th>\n",
       "      <th>competition_stage</th>\n",
       "      <th>season</th>\n",
       "      <th>match_date</th>\n",
       "    </tr>\n",
       "  </thead>\n",
       "  <tbody>\n",
       "    <tr>\n",
       "      <th>0</th>\n",
       "      <td>9592</td>\n",
       "      <td>217</td>\n",
       "      <td>Barcelona</td>\n",
       "      <td>214</td>\n",
       "      <td>Espanyol</td>\n",
       "      <td>5</td>\n",
       "      <td>0</td>\n",
       "      <td>La Liga</td>\n",
       "      <td>11</td>\n",
       "      <td>Regular Season</td>\n",
       "      <td>2017/2018</td>\n",
       "      <td>2017-09-09</td>\n",
       "    </tr>\n",
       "    <tr>\n",
       "      <th>1</th>\n",
       "      <td>9870</td>\n",
       "      <td>217</td>\n",
       "      <td>Barcelona</td>\n",
       "      <td>205</td>\n",
       "      <td>Leganés</td>\n",
       "      <td>3</td>\n",
       "      <td>1</td>\n",
       "      <td>La Liga</td>\n",
       "      <td>11</td>\n",
       "      <td>Regular Season</td>\n",
       "      <td>2017/2018</td>\n",
       "      <td>2018-04-07</td>\n",
       "    </tr>\n",
       "    <tr>\n",
       "      <th>2</th>\n",
       "      <td>9783</td>\n",
       "      <td>214</td>\n",
       "      <td>Espanyol</td>\n",
       "      <td>217</td>\n",
       "      <td>Barcelona</td>\n",
       "      <td>1</td>\n",
       "      <td>1</td>\n",
       "      <td>La Liga</td>\n",
       "      <td>11</td>\n",
       "      <td>Regular Season</td>\n",
       "      <td>2017/2018</td>\n",
       "      <td>2018-02-04</td>\n",
       "    </tr>\n",
       "    <tr>\n",
       "      <th>3</th>\n",
       "      <td>9609</td>\n",
       "      <td>217</td>\n",
       "      <td>Barcelona</td>\n",
       "      <td>322</td>\n",
       "      <td>Eibar</td>\n",
       "      <td>6</td>\n",
       "      <td>1</td>\n",
       "      <td>La Liga</td>\n",
       "      <td>11</td>\n",
       "      <td>Regular Season</td>\n",
       "      <td>2017/2018</td>\n",
       "      <td>2017-09-19</td>\n",
       "    </tr>\n",
       "    <tr>\n",
       "      <th>4</th>\n",
       "      <td>9700</td>\n",
       "      <td>217</td>\n",
       "      <td>Barcelona</td>\n",
       "      <td>209</td>\n",
       "      <td>Celta Vigo</td>\n",
       "      <td>2</td>\n",
       "      <td>2</td>\n",
       "      <td>La Liga</td>\n",
       "      <td>11</td>\n",
       "      <td>Regular Season</td>\n",
       "      <td>2017/2018</td>\n",
       "      <td>2017-12-02</td>\n",
       "    </tr>\n",
       "  </tbody>\n",
       "</table>\n",
       "</div>"
      ],
      "text/plain": [
       "   match_id  home_team_id home_team_name  away_team_id away_team_name  \\\n",
       "0      9592           217      Barcelona           214       Espanyol   \n",
       "1      9870           217      Barcelona           205        Leganés   \n",
       "2      9783           214       Espanyol           217      Barcelona   \n",
       "3      9609           217      Barcelona           322          Eibar   \n",
       "4      9700           217      Barcelona           209     Celta Vigo   \n",
       "\n",
       "   home_score  away_score competition_name  competition_id competition_stage  \\\n",
       "0           5           0          La Liga              11    Regular Season   \n",
       "1           3           1          La Liga              11    Regular Season   \n",
       "2           1           1          La Liga              11    Regular Season   \n",
       "3           6           1          La Liga              11    Regular Season   \n",
       "4           2           2          La Liga              11    Regular Season   \n",
       "\n",
       "      season  match_date  \n",
       "0  2017/2018  2017-09-09  \n",
       "1  2017/2018  2018-04-07  \n",
       "2  2017/2018  2018-02-04  \n",
       "3  2017/2018  2017-09-19  \n",
       "4  2017/2018  2017-12-02  "
      ]
     },
     "execution_count": 18,
     "metadata": {},
     "output_type": "execute_result"
    }
   ],
   "source": [
    "df_matches.head()"
   ]
  },
  {
   "cell_type": "code",
   "execution_count": 20,
   "metadata": {},
   "outputs": [],
   "source": [
    "df_matches.to_excel('extracted_data/matches.xlsx', columns=df_matches.columns, index=False)"
   ]
  },
  {
   "cell_type": "code",
   "execution_count": null,
   "metadata": {},
   "outputs": [],
   "source": []
  }
 ],
 "metadata": {
  "kernelspec": {
   "display_name": "Python 3",
   "language": "python",
   "name": "python3"
  },
  "language_info": {
   "codemirror_mode": {
    "name": "ipython",
    "version": 3
   },
   "file_extension": ".py",
   "mimetype": "text/x-python",
   "name": "python",
   "nbconvert_exporter": "python",
   "pygments_lexer": "ipython3",
   "version": "3.6.4"
  }
 },
 "nbformat": 4,
 "nbformat_minor": 2
}
