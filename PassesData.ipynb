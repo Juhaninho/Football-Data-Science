{
 "cells": [
  {
   "cell_type": "code",
   "execution_count": null,
   "metadata": {},
   "outputs": [],
   "source": [
    "import pandas as pd\n",
    "import numpy as np\n",
    "import json\n",
    "import os\n",
    "pd.set_option('display.max_columns', None)\n",
    "pd.set_option('display.max_rows', None)\n",
    "pd.options.mode.chained_assignment = None"
   ]
  },
  {
   "cell_type": "code",
   "execution_count": null,
   "metadata": {},
   "outputs": [],
   "source": [
    "# get all match_ids for La Liga matches\n",
    "match_ids = []\n",
    "laliga_comps = 'data/matches/11'\n",
    "for filename in os.listdir(laliga_comps):\n",
    "    with open(os.path.join(laliga_comps, filename), encoding='utf8') as f:\n",
    "        matches = json.load(f)\n",
    "        matches = pd.DataFrame(matches)\n",
    "        match_ids.extend(matches['match_id'].unique())"
   ]
  },
  {
   "cell_type": "code",
   "execution_count": null,
   "metadata": {},
   "outputs": [],
   "source": [
    "# read the events from all La Liga matches\n",
    "events_folder = 'data/events'\n",
    "#events = pd.concat([pd.DataFrame(json.load(open(os.path.join(events_folder, str(match_id) + '.json'), encoding='utf8'))) for match_id in match_ids])\n",
    "events = pd.concat([pd.DataFrame(json.load(open(os.path.join(events_folder, str(match_id) + '.json'), encoding='utf8'))).assign(match_id=match_id) for match_id in match_ids])\n",
    "events.reset_index(inplace=True)"
   ]
  },
  {
   "cell_type": "code",
   "execution_count": null,
   "metadata": {},
   "outputs": [],
   "source": [
    "def get_df_passes(events):\n",
    "    # get all passes\n",
    "    events.loc[:, 'pass_event'] = [1 if events['type'].iloc[i]['id'] == 30 else 0 for i in range(len(events))]\n",
    "    passes = events[events['pass_event'] == 1]\n",
    "    passes.drop('pass_event', axis=1, inplace=True)\n",
    "    passes.index = np.arange(len(passes))\n",
    "\n",
    "    # Generation of features for a pass\n",
    "    passes = passes.assign(recipient = [passes['pass'].iloc[i]['recipient']['id'] if 'recipient' in passes['pass'].iloc[i].keys() else -1 for i in range(len(passes))],\n",
    "                           length = [passes['pass'].iloc[i]['length'] for i in range(len(passes))],\n",
    "                           angle = [passes['pass'].iloc[i]['angle'] if 'angle' in passes['pass'].iloc[i].keys() else 0 for i in range(len(passes))],\n",
    "                           end_location_x = [passes['pass'].iloc[i]['end_location'][0] for i in range(len(passes))],\n",
    "                           end_location_y = [passes['pass'].iloc[i]['end_location'][1] for i in range(len(passes))],\n",
    "                           backheel = [1 if ('backheel' in passes['pass'].iloc[i].keys()) and (passes['pass'].iloc[i]['backheel']) else 0 for i in range(len(passes))],\n",
    "                           deflected = [1 if ('deflected' in passes['pass'].iloc[i].keys()) and (passes['pass'].iloc[i]['deflected']) else 0 for i in range(len(passes))],\n",
    "                           miscommunication = [1 if ('miscommunication' in passes['pass'].iloc[i].keys()) and (passes['pass'].iloc[i]['miscommunication']) else 0 for i in range(len(passes))],\n",
    "                           cross = [1 if ('cross' in passes['pass'].iloc[i].keys()) and (passes['pass'].iloc[i]['cross']) else 0 for i in range(len(passes))],\n",
    "                           cut_back = [1 if ('cut_back' in passes['pass'].iloc[i].keys()) and (passes['pass'].iloc[i]['cut_back']) else 0 for i in range(len(passes))],\n",
    "                           switch = [1 if ('switch' in passes['pass'].iloc[i].keys()) and (passes['pass'].iloc[i]['switch']) else 0 for i in range(len(passes))],\n",
    "                           shot_assist = [1 if ('shot_assist' in passes['pass'].iloc[i].keys()) and (passes['pass'].iloc[i]['shot_assist']) else 0 for i in range(len(passes))],\n",
    "                           goal_assist = [1 if ('goal_assist' in passes['pass'].iloc[i].keys()) and (passes['pass'].iloc[i]['goal_assist']) else 0 for i in range(len(passes))],\n",
    "                           under_pressure = [1 if passes['under_pressure'].iloc[i] == True else 0 for i in range(len(passes))],\n",
    "                           team_id = [passes['team'].iloc[i]['id'] for i in range(len(passes))],\n",
    "                           player_id = [passes['player'].iloc[i]['id'] for i in range(len(passes))],\n",
    "                           location_x = [passes['location'].iloc[i][0] for i in range(len(passes))],\n",
    "                           location_y = [passes['location'].iloc[i][1] for i in range(len(passes))])\n",
    "    \n",
    "    # add the direction of a pass\n",
    "    passes.loc[:, 'direction_x'] = passes['end_location_x'] - passes['location_x']\n",
    "    passes.loc[:, 'direction_y'] = passes['end_location_y'] - passes['location_y']\n",
    "\n",
    "    # One-Hot-Encoding of the pass-height\n",
    "    pass_heights = {1: 'Ground Pass', 2: 'Low Pass', 3: 'High Pass'} \n",
    "    for height_id, height_name in pass_heights.items():\n",
    "        passes.loc[:, height_name] = [1 if ('height' in passes['pass'].iloc[i].keys()) and (passes['pass'].iloc[i]['height']['id'] == height_id) else 0 for i in range(len(passes))]\n",
    "\n",
    "    # One-Hot-Encoding of the body-part that's used for a pass\n",
    "    body_parts = {68: 'Drop Kick', 37: 'Head', 69: 'Kepper Arm', 38: 'Left Foot', 40: 'Right Foot', 106: 'No Touch'} \n",
    "    for body_part_id, body_part_name in body_parts.items():\n",
    "        passes.loc[:, body_part_name] = [1 if ('body_part' in passes['pass'].iloc[i].keys()) and (passes['pass'].iloc[i]['body_part']['id'] == body_part_id) else 0 for i in range(len(passes))]\n",
    "\n",
    "    # One-Hot-Encoding of the type of a pass\n",
    "    types = {61: 'Corner', 62: 'Free Kick', 63: 'Goal Kick', 64: 'Interception', 65: 'Kick Off', 66: 'Recovery', 67: 'Throw-in'} \n",
    "    for type_id, type_name in types.items():\n",
    "        passes.loc[:, type_name] = [1 if ('type' in passes['pass'].iloc[i].keys()) and (passes['pass'].iloc[i]['type']['id'] == type_id) else 0 for i in range(len(passes))]\n",
    "\n",
    "    # One-Hot-Encoding of the outcome of a pass\n",
    "    outcomes = {9: 'Incomplete', 74: 'Injury Clearance', 75: 'Out', 76: 'Pass Offside'} \n",
    "    for outcome_id, outcome_name in outcomes.items():\n",
    "        passes.loc[:, outcome_name] = [1 if ('outcome' in passes['pass'].iloc[i].keys()) and (passes['pass'].iloc[i]['outcome']['id'] == outcome_id) else 0 for i in range(len(passes))]\n",
    "    passes.loc[:, 'complete'] = [1 if 'outcome' not in passes['pass'].iloc[i].keys() else 0 for i in range(len(passes))]\n",
    "\n",
    "    # One-Hot-Encoding of the technique of a pass\n",
    "    techniques = {104: 'Inswinging', 105: 'Outswinging', 107: 'Straight', 108: 'Through Ball'} \n",
    "    for technique_id, technique_name in techniques.items():\n",
    "        passes.loc[:, technique_name] = [1 if ('technique' in passes['pass'].iloc[i].keys()) and (passes['pass'].iloc[i]['technique']['id'] == technique_id) else 0 for i in range(len(passes))]\n",
    "\n",
    "    # Extraction of the position of the player who played a pass\n",
    "    passes.loc[:, 'position'] = [passes['position'].iloc[i]['id'] for i in range(len(passes))]\n",
    "\n",
    "    # Dropping of irrelevant columns\n",
    "    passes.drop(['level_0', 'index', '50_50', 'clearance', 'half_end', 'half_start', 'injury_stoppage', 'miscontrol',\n",
    "                'possession_team', 'player', 'team', 'shot', 'location', 'off_camera', 'out',\n",
    "                'player_off', 'interception', 'pass', 'play_pattern', 'possession', 'id', 'related_events',\n",
    "                'substitution', 'tactics', 'timestamp', 'type', 'bad_behaviour', 'ball_receipt', 'ball_recovery', 'block',\n",
    "                'carry', 'counterpress', 'dribble', 'duel', 'foul_committed', 'foul_won', 'goalkeeper'], axis=1, inplace=True, errors='ignore')\n",
    "    \n",
    "    passes.columns = ['duration', 'match_id', 'minute', 'period', 'position', 'second', 'under_pressure', 'recipient',\n",
    "                      'length', 'angle', 'end_location_x', 'end_location_y', 'backheel', 'deflected', 'miscommunication',\n",
    "                      'cross', 'cut_back', 'switch', 'shot_assist', 'goal_assist', 'team_id', 'player_id', 'location_x',\n",
    "                      'location_y', 'direction_x', 'direction_y', 'ground_pass', 'low_pass', 'high_pass', 'drop_kick', 'head',\n",
    "                      'keeper_arm', 'left_foot', 'right_foot', 'no_touch', 'corner', 'free_kick', 'goal_kick', 'interception', \n",
    "                      'kick_off', 'recovery', 'throw_in', 'incomplete', 'injury_clearance', 'out', 'pass_offside', 'complete',\n",
    "                      'inswinging', 'outswinging', 'straight', 'through_ball']\n",
    "    \n",
    "    return passes"
   ]
  },
  {
   "cell_type": "code",
   "execution_count": null,
   "metadata": {},
   "outputs": [],
   "source": [
    "passes = get_df_passes(events)"
   ]
  },
  {
   "cell_type": "code",
   "execution_count": null,
   "metadata": {},
   "outputs": [],
   "source": [
    "passes.head()"
   ]
  },
  {
   "cell_type": "code",
   "execution_count": null,
   "metadata": {},
   "outputs": [],
   "source": [
    "passes.shape"
   ]
  },
  {
   "cell_type": "code",
   "execution_count": null,
   "metadata": {},
   "outputs": [],
   "source": [
    "#passes.to_excel('extracted_data/passes.xlsx', columns=passes.columns, index=False)"
   ]
  },
  {
   "cell_type": "code",
   "execution_count": null,
   "metadata": {},
   "outputs": [],
   "source": []
  },
  {
   "cell_type": "code",
   "execution_count": null,
   "metadata": {},
   "outputs": [],
   "source": []
  }
 ],
 "metadata": {
  "kernelspec": {
   "display_name": "Python 3",
   "language": "python",
   "name": "python3"
  },
  "language_info": {
   "codemirror_mode": {
    "name": "ipython",
    "version": 3
   },
   "file_extension": ".py",
   "mimetype": "text/x-python",
   "name": "python",
   "nbconvert_exporter": "python",
   "pygments_lexer": "ipython3",
   "version": "3.6.4"
  }
 },
 "nbformat": 4,
 "nbformat_minor": 2
}
