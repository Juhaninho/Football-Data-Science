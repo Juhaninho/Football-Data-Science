{
 "cells": [
  {
   "cell_type": "code",
   "execution_count": 1,
   "metadata": {},
   "outputs": [],
   "source": [
    "import pandas as pd\n",
    "import numpy as np\n",
    "import json\n",
    "import os\n",
    "pd.set_option('display.max_columns', None)\n",
    "pd.set_option('display.max_rows', None)"
   ]
  },
  {
   "cell_type": "code",
   "execution_count": 19,
   "metadata": {},
   "outputs": [],
   "source": [
    "df_players = pd.DataFrame()\n",
    "folder = 'data/lineups'\n",
    "for filename in os.listdir(folder):\n",
    "    with open(os.path.join(folder, filename), encoding='utf8') as f:\n",
    "        players = json.load(f)\n",
    "        df_players = pd.concat([df_players, pd.DataFrame(players)])"
   ]
  },
  {
   "cell_type": "code",
   "execution_count": 21,
   "metadata": {},
   "outputs": [],
   "source": [
    "df_lineups = []\n",
    "for idx, row in df_players.iterrows():\n",
    "    df_lineup = pd.DataFrame(row['lineup']).assign(team_id = row['team_id'], team_name = row['team_name'])\n",
    "    df_lineups.append(df_lineup)\n",
    "df_players = pd.concat(df_lineups)"
   ]
  },
  {
   "cell_type": "code",
   "execution_count": 22,
   "metadata": {},
   "outputs": [],
   "source": [
    "df_players = df_players[['player_id', 'player_name', 'player_nickname', 'jersey_number', 'team_id', 'team_name']]\n",
    "df_players = df_players.drop_duplicates()"
   ]
  },
  {
   "cell_type": "code",
   "execution_count": 31,
   "metadata": {},
   "outputs": [
    {
     "data": {
      "text/html": [
       "<div>\n",
       "<style scoped>\n",
       "    .dataframe tbody tr th:only-of-type {\n",
       "        vertical-align: middle;\n",
       "    }\n",
       "\n",
       "    .dataframe tbody tr th {\n",
       "        vertical-align: top;\n",
       "    }\n",
       "\n",
       "    .dataframe thead th {\n",
       "        text-align: right;\n",
       "    }\n",
       "</style>\n",
       "<table border=\"1\" class=\"dataframe\">\n",
       "  <thead>\n",
       "    <tr style=\"text-align: right;\">\n",
       "      <th></th>\n",
       "      <th>player_id</th>\n",
       "      <th>player_name</th>\n",
       "      <th>player_nickname</th>\n",
       "      <th>jersey_number</th>\n",
       "      <th>team_id</th>\n",
       "      <th>team_name</th>\n",
       "    </tr>\n",
       "  </thead>\n",
       "  <tbody>\n",
       "    <tr>\n",
       "      <th>0</th>\n",
       "      <td>3109</td>\n",
       "      <td>Malcom Filipe Silva de Oliveira</td>\n",
       "      <td>Malcom</td>\n",
       "      <td>14</td>\n",
       "      <td>217</td>\n",
       "      <td>Barcelona</td>\n",
       "    </tr>\n",
       "    <tr>\n",
       "      <th>1</th>\n",
       "      <td>3501</td>\n",
       "      <td>Philippe Coutinho Correia</td>\n",
       "      <td>Philippe Coutinho</td>\n",
       "      <td>7</td>\n",
       "      <td>217</td>\n",
       "      <td>Barcelona</td>\n",
       "    </tr>\n",
       "    <tr>\n",
       "      <th>2</th>\n",
       "      <td>5203</td>\n",
       "      <td>Sergio Busquets i Burgos</td>\n",
       "      <td>Sergio Busquets</td>\n",
       "      <td>5</td>\n",
       "      <td>217</td>\n",
       "      <td>Barcelona</td>\n",
       "    </tr>\n",
       "    <tr>\n",
       "      <th>3</th>\n",
       "      <td>5211</td>\n",
       "      <td>Jordi Alba Ramos</td>\n",
       "      <td>Jordi Alba</td>\n",
       "      <td>18</td>\n",
       "      <td>217</td>\n",
       "      <td>Barcelona</td>\n",
       "    </tr>\n",
       "    <tr>\n",
       "      <th>4</th>\n",
       "      <td>5213</td>\n",
       "      <td>Gerard Piqué Bernabéu</td>\n",
       "      <td>Gerard Piqué</td>\n",
       "      <td>3</td>\n",
       "      <td>217</td>\n",
       "      <td>Barcelona</td>\n",
       "    </tr>\n",
       "  </tbody>\n",
       "</table>\n",
       "</div>"
      ],
      "text/plain": [
       "   player_id                      player_name    player_nickname  \\\n",
       "0       3109  Malcom Filipe Silva de Oliveira             Malcom   \n",
       "1       3501        Philippe Coutinho Correia  Philippe Coutinho   \n",
       "2       5203         Sergio Busquets i Burgos    Sergio Busquets   \n",
       "3       5211                 Jordi Alba Ramos         Jordi Alba   \n",
       "4       5213            Gerard Piqué Bernabéu       Gerard Piqué   \n",
       "\n",
       "   jersey_number  team_id  team_name  \n",
       "0             14      217  Barcelona  \n",
       "1              7      217  Barcelona  \n",
       "2              5      217  Barcelona  \n",
       "3             18      217  Barcelona  \n",
       "4              3      217  Barcelona  "
      ]
     },
     "execution_count": 31,
     "metadata": {},
     "output_type": "execute_result"
    }
   ],
   "source": [
    "df_players.head()"
   ]
  },
  {
   "cell_type": "code",
   "execution_count": 28,
   "metadata": {},
   "outputs": [],
   "source": [
    "df_players.to_excel('extracted_data/players.xlsx', columns=df_players.columns)"
   ]
  },
  {
   "cell_type": "code",
   "execution_count": null,
   "metadata": {},
   "outputs": [],
   "source": []
  }
 ],
 "metadata": {
  "kernelspec": {
   "display_name": "Python 3",
   "language": "python",
   "name": "python3"
  },
  "language_info": {
   "codemirror_mode": {
    "name": "ipython",
    "version": 3
   },
   "file_extension": ".py",
   "mimetype": "text/x-python",
   "name": "python",
   "nbconvert_exporter": "python",
   "pygments_lexer": "ipython3",
   "version": "3.6.4"
  }
 },
 "nbformat": 4,
 "nbformat_minor": 2
}
