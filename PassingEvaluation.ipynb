{
 "cells": [
  {
   "cell_type": "code",
   "execution_count": 1,
   "metadata": {},
   "outputs": [],
   "source": [
    "import pandas as pd\n",
    "import numpy as np\n",
    "import matplotlib.pyplot as plt\n",
    "import seaborn as sns\n",
    "import json\n",
    "import os\n",
    "import joblib\n",
    "import pickle\n",
    "from mplsoccer.pitch import Pitch\n",
    "from ipynb.fs.defs.PassesData import get_df_passes\n",
    "from ipynb.fs.defs.ExpectedGoalsData import get_df_shots\n",
    "pd.set_option('display.max_columns', None)\n",
    "pd.set_option('display.max_rows', None)\n",
    "pd.options.mode.chained_assignment = None"
   ]
  },
  {
   "cell_type": "code",
   "execution_count": 2,
   "metadata": {},
   "outputs": [],
   "source": [
    "plt.style.use('fivethirtyeight')\n",
    "params = {'axes.titlesize': 'x-large',\n",
    "          'axes.labelsize': 'large', \n",
    "          'xtick.labelsize':'large',\n",
    "          'ytick.labelsize':'large'}\n",
    "plt.rcParams.update(params)"
   ]
  },
  {
   "cell_type": "code",
   "execution_count": 3,
   "metadata": {},
   "outputs": [],
   "source": [
    "matches = pd.read_excel('extracted_data/matches.xlsx')\n",
    "players = pd.read_excel('extracted_data/players.xlsx')"
   ]
  },
  {
   "cell_type": "code",
   "execution_count": 4,
   "metadata": {},
   "outputs": [],
   "source": [
    "def get_player_name(player_id):\n",
    "    if pd.notna(players.loc[players['player_id'] == player_id, 'player_nickname'].iloc[0]):\n",
    "        return players.loc[players['player_id'] == player_id, 'player_nickname'].iloc[0]\n",
    "    else:\n",
    "        return players.loc[players['player_id'] == player_id, 'player_name'].iloc[0]"
   ]
  },
  {
   "cell_type": "code",
   "execution_count": 5,
   "metadata": {},
   "outputs": [],
   "source": [
    "def get_competition_data(comp_matches):\n",
    "    # get all events from competition matches\n",
    "    events_folder = 'data/events'\n",
    "    events = pd.concat([pd.DataFrame(json.load(open(os.path.join(events_folder, str(match_id) + '.json'), encoding='utf8'))).assign(match_id=match_id) for match_id in comp_matches['match_id'].unique()])\n",
    "    events.reset_index(inplace=True)\n",
    "    # add predictions for the pass accuracy\n",
    "    comp_passes = get_df_passes(events)\n",
    "    passes_model = joblib.load('models/pass_accuracy_model.pkl')\n",
    "    with open(\"models/passes_selected_features.txt\", \"rb\") as fp:\n",
    "         passes_selected_features = pickle.load(fp)\n",
    "    comp_passes.loc[:, 'pred_accuracy'] = passes_model.predict_proba(comp_passes[passes_selected_features])[:, 1]\n",
    "    # add expected goals predictions\n",
    "    comp_shots = get_df_shots(events)\n",
    "    xg_model = joblib.load('models/expected_goals_model.pkl')\n",
    "    with open(\"models/xg_selected_features.txt\", \"rb\") as fp:\n",
    "         xg_selected_features = pickle.load(fp)\n",
    "    comp_shots.loc[:, 'pred_xg'] = xg_model.predict_proba(comp_shots[xg_selected_features])[:, 1]\n",
    "    # add the ids to the passes and shots\n",
    "    events.loc[:, 'pass_event'] = [1 if events['type'].iloc[i]['id'] == 30 else 0 for i in range(len(events))]\n",
    "    events.loc[:, 'shot_event'] = [1 if events['type'].iloc[i]['id'] == 16 else 0 for i in range(len(events))]\n",
    "    comp_passes.loc[:, 'id'] = events.loc[events['pass_event'] == 1, 'id'].reset_index(drop=True)\n",
    "    comp_shots.loc[:, 'id'] = events.loc[events['shot_event'] == 1, 'id'].reset_index(drop=True)\n",
    "    events = events.loc[(events['pass_event'] == 1) | (events['shot_event'] == 1), ['id', 'match_id', 'possession', 'pass_event', 'shot_event']]\n",
    "    return events, comp_passes, comp_shots"
   ]
  },
  {
   "cell_type": "code",
   "execution_count": 6,
   "metadata": {},
   "outputs": [],
   "source": [
    "# calculate the playtime for each player as a dict with the player_id as the key and the minutes played as the value\n",
    "def calculate_players_playtime(comp_matches):\n",
    "    # get all events from competition matches\n",
    "    events_folder = 'data/events'\n",
    "    events = pd.concat([pd.DataFrame(json.load(open(os.path.join(events_folder, str(match_id) + '.json'), encoding='utf8'))).assign(match_id=match_id) for match_id in comp_matches['match_id'].unique()])\n",
    "    events.reset_index(inplace=True)\n",
    "    # calculate the playtime for each player\n",
    "    players_playtime = {}\n",
    "    for match_id in comp_matches['match_id'].unique():\n",
    "        total_minutes = events.loc[events['match_id'] == match_id, 'minute'].max()\n",
    "        for _, tactic in events.loc[(events['match_id'] == match_id) & (~events['tactics'].isna()), 'tactics'].iloc[:2].iteritems():\n",
    "            for player in pd.DataFrame(tactic['lineup'])['player']:\n",
    "                if player['id'] in players_playtime:\n",
    "                    players_playtime[player['id']] += total_minutes\n",
    "                else:\n",
    "                    players_playtime[player['id']] = total_minutes\n",
    "        for _, sub in events.loc[(events['match_id'] == match_id) & (~events['substitution'].isna()), ['substitution', 'player', 'minute']].iterrows():\n",
    "            on_player_id = sub['substitution']['replacement']['id']\n",
    "            off_player_id = sub['player']['id']\n",
    "            remaining_minutes = (total_minutes - sub['minute'])\n",
    "            if on_player_id in players_playtime:\n",
    "                players_playtime[on_player_id] += remaining_minutes\n",
    "            else:\n",
    "                players_playtime[on_player_id] = remaining_minutes\n",
    "            players_playtime[off_player_id] -= remaining_minutes\n",
    "    return players_playtime"
   ]
  },
  {
   "cell_type": "code",
   "execution_count": 7,
   "metadata": {},
   "outputs": [],
   "source": [
    "# add the xg-value of a shot to all passes that belong to the chain of passes that led to the shot\n",
    "def calculate_xg_chain(comp_events, comp_passes, comp_shots):\n",
    "    comp_passes.loc[:, 'xg_chain'] = 0\n",
    "    for match_id in comp_events['match_id'].unique():\n",
    "        match_events = comp_events[comp_events['match_id'] == match_id]\n",
    "        for possession in match_events['possession'].unique():\n",
    "            shot_events = match_events[(match_events['possession'] == possession) & (match_events['shot_event'] == 1)]\n",
    "            if len(shot_events) > 0:\n",
    "                shot_xg = comp_shots.loc[comp_shots['id'] == shot_events['id'].iloc[0], 'pred_xg'].iloc[0]\n",
    "                pass_chain_ids = match_events.loc[(match_events['possession'] == possession) & (match_events['pass_event'] == 1), 'id']\n",
    "                comp_passes.loc[comp_passes['id'].isin(pass_chain_ids), 'xg_chain'] = shot_xg\n",
    "    return comp_passes"
   ]
  },
  {
   "cell_type": "code",
   "execution_count": 8,
   "metadata": {},
   "outputs": [],
   "source": [
    "# get the xg-chain-value per match for every player\n",
    "def get_xg_chain(comp_passes, comp_shots, players_playtime):\n",
    "    df_xg_chain = pd.DataFrame(columns=['player_id', 'Position', 'Spieler', 'Anzahl Spiele', 'Spielminuten', 'xG-Chain', 'xG-Chain/90',\n",
    "                                        'pre-xG-Chain', 'pre-xG-Chain/90'])\n",
    "    for player_id in comp_passes['player_id'].unique():\n",
    "        player_passes = comp_passes[comp_passes['player_id'] == player_id]\n",
    "        player_shots = comp_shots[comp_shots['player_id'] == player_id]\n",
    "        num_matches = len(player_passes['match_id'].unique())\n",
    "        num_minutes = players_playtime[player_id]\n",
    "        xg_chain_sum = np.round(np.sum(player_passes['xg_chain'].unique()) + player_shots['pred_xg'].sum(), 2)\n",
    "        pre_xg_chain_sum = np.round(np.sum(player_passes.loc[(player_passes['shot_assist'] == 0) & (player_passes['goal_assist'] == 0), 'xg_chain'].unique()), 2)\n",
    "        pos = player_passes['position'].iloc[0]\n",
    "        position = 'Torwart' if pos == 1 else 'Verteidiger' if pos <= 8 else 'Mittelfeldspieler' if pos <= 21 else 'Stürmer'\n",
    "        df_xg_chain = df_xg_chain.append(pd.Series({'player_id': player_id, 'Position': position, 'Spieler': get_player_name(player_id),\n",
    "                                                    'Anzahl Spiele': num_matches, 'Spielminuten': num_minutes, 'xG-Chain': xg_chain_sum, \n",
    "                                                    'xG-Chain/90': np.round(90 * xg_chain_sum / num_minutes, 2), 'pre-xG-Chain': pre_xg_chain_sum, \n",
    "                                                    'pre-xG-Chain/90': np.round(90 * pre_xg_chain_sum / num_minutes, 2)}), ignore_index=True)\n",
    "    return df_xg_chain"
   ]
  },
  {
   "cell_type": "code",
   "execution_count": 9,
   "metadata": {},
   "outputs": [],
   "source": [
    "# calculate the effectiveness for a pass: -2 für Fehlpässe, die zu einem Torschuss des Gegners führen; \n",
    "# -1 für harmlose Fehlpässe; 0 für neutrale Pässe; 1 für raumgewinnende Pässe; 2 für Pässe, die zu einem Torschuss führen\n",
    "def calculate_pass_effectiveness(the_pass, comp_events):\n",
    "    if the_pass['complete'] == 0:\n",
    "        event = comp_events[comp_events['id'] == the_pass['id']].iloc[0]\n",
    "        next_possession_chain = comp_events[(comp_events['match_id'] == event['match_id']) & (comp_events['possession'] == event['possession']+1)]\n",
    "        if (next_possession_chain['pass_event'].sum() <= 4) & (next_possession_chain['shot_event'].sum() > 0):\n",
    "            return -2\n",
    "        else:\n",
    "            return -1\n",
    "    else:\n",
    "        if (the_pass['shot_assist'] == 1) | (the_pass['goal_assist'] == 1):\n",
    "            return 2\n",
    "        elif ((the_pass['location_x'] > 60) & (the_pass['end_location_x'] > the_pass['location_x'])) | (the_pass['end_location_x'] - 10 > the_pass['location_x']) | (the_pass['switch'] == 1) | (the_pass['cross'] == 1) | (the_pass['cut_back'] == 1):\n",
    "            return 1\n",
    "        else:\n",
    "            return 0"
   ]
  },
  {
   "cell_type": "code",
   "execution_count": 10,
   "metadata": {},
   "outputs": [],
   "source": [
    "# add a score to every pass for the effectiveness of a pass\n",
    "def calculate_pass_effectivenesses(comp_passes, comp_events):\n",
    "    comp_passes.loc[:, 'pass_effectiveness'] = [calculate_pass_effectiveness(row, comp_events) for _, row in comp_passes.iterrows()]\n",
    "    return comp_passes"
   ]
  },
  {
   "cell_type": "code",
   "execution_count": 11,
   "metadata": {},
   "outputs": [],
   "source": [
    "# add a score to every pass that combines the effectiveness and the difficulty of a pass\n",
    "def calculate_pass_scores(comp_passes):\n",
    "    comp_passes.loc[:, 'pass_score'] = [row['pass_effectiveness']*(1-row['pred_accuracy']) if row['pass_effectiveness'] >= 0 else row['pass_effectiveness']*row['pred_accuracy'] for _, row in comp_passes.iterrows()]\n",
    "    return comp_passes"
   ]
  },
  {
   "cell_type": "code",
   "execution_count": 12,
   "metadata": {},
   "outputs": [],
   "source": [
    "# get the sum of passing scores per match for every player\n",
    "def get_pass_scores(comp_passes, players_playtime):\n",
    "    df_pass_scores = pd.DataFrame(columns=['player_id', 'Position', 'Spieler', 'Anzahl Spiele', 'Spielminuten', 'Passeffekt', \n",
    "                                           'Passeffekt/90', 'Pässe', '-2', '-1', '0', '1', '2', 'Passwert', 'Passwert/90'])\n",
    "    for player_id in comp_passes['player_id'].unique():\n",
    "        player_passes = comp_passes[comp_passes['player_id'] == player_id]\n",
    "        num_matches = len(player_passes['match_id'].unique())\n",
    "        num_minutes = players_playtime[player_id]\n",
    "        pass_effect_sum = player_passes['pass_effectiveness'].sum()\n",
    "        pass_score_sum = np.round(player_passes['pass_score'].sum(), 2)\n",
    "        pos = player_passes['position'].iloc[0]\n",
    "        position = 'Torwart' if pos == 1 else 'Verteidiger' if pos <= 8 else 'Mittelfeldspieler' if pos <= 21 else 'Stürmer'\n",
    "        df_pass_scores = df_pass_scores.append(pd.Series({'player_id': player_id, 'Position': position, 'Spieler': get_player_name(player_id),\n",
    "                                                          'Anzahl Spiele': num_matches, 'Spielminuten': num_minutes,\n",
    "                                                          'Passeffekt': pass_effect_sum, \n",
    "                                                          'Passeffekt/90': np.round(90 * pass_effect_sum / num_minutes, 2), \n",
    "                                                          'Pässe': len(player_passes), \n",
    "                                                          '-2': len(player_passes[player_passes['pass_effectiveness'] == -2]), \n",
    "                                                          '-1': len(player_passes[player_passes['pass_effectiveness'] == -1]),\n",
    "                                                          '0': len(player_passes[player_passes['pass_effectiveness'] == 0]), \n",
    "                                                          '1': len(player_passes[player_passes['pass_effectiveness'] == 1]), \n",
    "                                                          '2': len(player_passes[player_passes['pass_effectiveness'] == 2]),\n",
    "                                                          'Passwert': pass_score_sum, \n",
    "                                                          'Passwert/90': np.round(90 * pass_score_sum / num_minutes, 2)}), ignore_index=True)\n",
    "    return df_pass_scores"
   ]
  },
  {
   "cell_type": "markdown",
   "metadata": {},
   "source": [
    "Calculation of Expected Goals Chain Values for the World Cup 2018"
   ]
  },
  {
   "cell_type": "code",
   "execution_count": null,
   "metadata": {},
   "outputs": [],
   "source": [
    "# get data for the world cup 2018\n",
    "comp_id = 43\n",
    "comp_matches = matches[matches['competition_id'] == comp_id]\n",
    "wc_events, wc_passes, wc_shots = get_competition_data(comp_matches)"
   ]
  },
  {
   "cell_type": "code",
   "execution_count": null,
   "metadata": {},
   "outputs": [],
   "source": [
    "wc_players_playtime = calculate_players_playtime(comp_matches)"
   ]
  },
  {
   "cell_type": "code",
   "execution_count": null,
   "metadata": {},
   "outputs": [],
   "source": [
    "wc_passes = calculate_xg_chain(wc_events, wc_passes, wc_shots)"
   ]
  },
  {
   "cell_type": "code",
   "execution_count": null,
   "metadata": {},
   "outputs": [],
   "source": [
    "df_xg_chain = get_xg_chain(wc_passes, wc_shots, wc_players_playtime)"
   ]
  },
  {
   "cell_type": "code",
   "execution_count": null,
   "metadata": {},
   "outputs": [],
   "source": [
    "df_xg_chain[df_xg_chain['Spielminuten'] >= 200].sort_values('xG-Chain/90', ascending=False).head(20)"
   ]
  },
  {
   "cell_type": "code",
   "execution_count": null,
   "metadata": {},
   "outputs": [],
   "source": [
    "wc_passes = calculate_pass_effectivenesses(wc_passes, wc_events)"
   ]
  },
  {
   "cell_type": "code",
   "execution_count": null,
   "metadata": {},
   "outputs": [],
   "source": [
    "wc_passes = calculate_pass_scores(wc_passes)"
   ]
  },
  {
   "cell_type": "code",
   "execution_count": null,
   "metadata": {},
   "outputs": [],
   "source": [
    "df_pass_scores = get_pass_scores(wc_passes, wc_players_playtime)"
   ]
  },
  {
   "cell_type": "code",
   "execution_count": null,
   "metadata": {},
   "outputs": [],
   "source": [
    "df_pass_scores[(df_pass_scores['Spielminuten'] >= 200) & (df_pass_scores['Position'] == 'Torwart')].sort_values('Passwert/90', ascending=False).head(10)"
   ]
  },
  {
   "cell_type": "code",
   "execution_count": null,
   "metadata": {},
   "outputs": [],
   "source": [
    "df_pass_scores[(df_pass_scores['Spielminuten'] >= 200) & (df_pass_scores['Position'] == 'Verteidiger')].sort_values('Passwert/90', ascending=False).head(10)"
   ]
  },
  {
   "cell_type": "code",
   "execution_count": null,
   "metadata": {
    "scrolled": false
   },
   "outputs": [],
   "source": [
    "df_pass_scores[(df_pass_scores['Spielminuten'] >= 200) & (df_pass_scores['Position'] == 'Mittelfeldspieler')].sort_values('Passwert/90', ascending=False).head(20)"
   ]
  },
  {
   "cell_type": "code",
   "execution_count": null,
   "metadata": {},
   "outputs": [],
   "source": [
    "df_pass_scores.loc[(df_pass_scores['Spielminuten'] >= 200) & (df_pass_scores['Position'] == 'Mittelfeldspieler'), ['Spieler', 'Anzahl Spiele', 'Spielminuten', 'Passeffekt', 'Passeffekt/90', 'Pässe', '-2', '-1', '0', '1', '2']].sort_values('Passeffekt/90', ascending=False).head(20)"
   ]
  },
  {
   "cell_type": "code",
   "execution_count": null,
   "metadata": {},
   "outputs": [],
   "source": [
    "df_pass_scores[(df_pass_scores['Spielminuten'] >= 200) & (df_pass_scores['Position'] == 'Stürmer')].sort_values('Passwert/90', ascending=False).head(10)"
   ]
  },
  {
   "cell_type": "code",
   "execution_count": null,
   "metadata": {},
   "outputs": [],
   "source": []
  },
  {
   "cell_type": "code",
   "execution_count": null,
   "metadata": {},
   "outputs": [],
   "source": []
  }
 ],
 "metadata": {
  "kernelspec": {
   "display_name": "Python 3",
   "language": "python",
   "name": "python3"
  },
  "language_info": {
   "codemirror_mode": {
    "name": "ipython",
    "version": 3
   },
   "file_extension": ".py",
   "mimetype": "text/x-python",
   "name": "python",
   "nbconvert_exporter": "python",
   "pygments_lexer": "ipython3",
   "version": "3.6.4"
  }
 },
 "nbformat": 4,
 "nbformat_minor": 2
}
